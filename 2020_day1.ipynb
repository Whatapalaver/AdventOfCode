{
 "cells": [
  {
   "cell_type": "markdown",
   "metadata": {},
   "source": [
    "# Advent of Code 2020 - Whatapalaver Solutions"
   ]
  },
  {
   "cell_type": "markdown",
   "metadata": {},
   "source": [
    "## Day 1 Part 1\n",
    "Specifically, they need you to find the two entries that sum to 2020 and then multiply those two numbers together."
   ]
  },
  {
   "cell_type": "code",
   "execution_count": 1,
   "metadata": {},
   "outputs": [
    {
     "name": "stdout",
     "output_type": "stream",
     "text": [
      "Hi\n"
     ]
    }
   ],
   "source": [
    "print(\"Hi\")"
   ]
  },
  {
   "cell_type": "code",
   "execution_count": 2,
   "metadata": {},
   "outputs": [],
   "source": [
    "def part1_simple_solution(target=2020):\n",
    "  small_nums = []\n",
    "  large_nums = []\n",
    "  with open('./2020_input_files/day1_input.txt') as f:\n",
    "    for line in f:\n",
    "      if int(line) <= target/2:\n",
    "        small_nums.append(int(line))\n",
    "      else:\n",
    "        large_nums.append(int(line))\n",
    "  for sm in small_nums:\n",
    "    for big in large_nums:\n",
    "      if sm + big == 2020:\n",
    "        print(\"Small: \", sm, \" big: \", big, ' answer: ', sm * big)\n",
    "        return (sm * big)"
   ]
  },
  {
   "cell_type": "code",
   "execution_count": 3,
   "metadata": {},
   "outputs": [
    {
     "name": "stdout",
     "output_type": "stream",
     "text": [
      "Small:  388  big:  1632  answer:  633216\n",
      "Part 1 First attempt:  633216\n"
     ]
    }
   ],
   "source": [
    "print(\"Part 1 First attempt: \", part1_simple_solution(2020))"
   ]
  },
  {
   "cell_type": "code",
   "execution_count": 4,
   "metadata": {},
   "outputs": [],
   "source": [
    "def extract_input(file='./2020_input_files/day1_input.txt'):\n",
    "  with open(file) as f:\n",
    "    return [int(row) for row in f]"
   ]
  },
  {
   "cell_type": "code",
   "execution_count": 5,
   "metadata": {},
   "outputs": [],
   "source": [
    "def part1_alternative(data, target=2020):\n",
    "  for a in data:\n",
    "    for b in data:\n",
    "      if a + b == target:\n",
    "        return a * b"
   ]
  },
  {
   "cell_type": "code",
   "execution_count": 6,
   "metadata": {},
   "outputs": [],
   "source": [
    "input = extract_input()"
   ]
  },
  {
   "cell_type": "code",
   "execution_count": 7,
   "metadata": {},
   "outputs": [
    {
     "name": "stdout",
     "output_type": "stream",
     "text": [
      "Part 1 Second attempt:  633216\n"
     ]
    }
   ],
   "source": [
    "print(\"Part 1 Second attempt: \", part1_alternative(data=input, target=2020))"
   ]
  },
  {
   "cell_type": "markdown",
   "metadata": {},
   "source": [
    "## Part 2\n",
    "Find three numbers in your expense report that meet the same criteria."
   ]
  },
  {
   "cell_type": "code",
   "execution_count": 8,
   "metadata": {},
   "outputs": [],
   "source": [
    "def part2_simple(data, target=2020):\n",
    "  for a in data:\n",
    "    for b in data:\n",
    "      for c in data:\n",
    "        if a + b + c == target:\n",
    "          return a * b * c"
   ]
  },
  {
   "cell_type": "code",
   "execution_count": 9,
   "metadata": {},
   "outputs": [
    {
     "name": "stdout",
     "output_type": "stream",
     "text": [
      "Part 2 First attempt:  68348924\n"
     ]
    }
   ],
   "source": [
    "print(\"Part 2 First attempt: \", part2_simple(data=input, target=2020))"
   ]
  },
  {
   "cell_type": "markdown",
   "metadata": {},
   "source": [
    "Utilising itertools"
   ]
  },
  {
   "cell_type": "code",
   "execution_count": 10,
   "metadata": {},
   "outputs": [],
   "source": [
    "from itertools import permutations"
   ]
  },
  {
   "cell_type": "code",
   "execution_count": 11,
   "metadata": {},
   "outputs": [],
   "source": [
    "def part2_alternative(data, target=2020, combinations=3):\n",
    "  perms = list(permutations(data,combinations))\n",
    "  for option in perms:\n",
    "    if sum(option) == target:\n",
    "      print(option)\n",
    "      res = 1 \n",
    "      for ele in option:  \n",
    "          res *= ele  \n",
    "      return res "
   ]
  },
  {
   "cell_type": "code",
   "execution_count": 12,
   "metadata": {},
   "outputs": [
    {
     "name": "stdout",
     "output_type": "stream",
     "text": [
      "(1607, 196, 217)\n",
      "Part 2 Second attempt:  68348924\n"
     ]
    }
   ],
   "source": [
    "print(\"Part 2 Second attempt: \", part2_alternative(data=input, target=2020, combinations=3))"
   ]
  },
  {
   "cell_type": "code",
   "execution_count": 13,
   "metadata": {},
   "outputs": [
    {
     "name": "stdout",
     "output_type": "stream",
     "text": [
      "(1632, 388)\n",
      "Part 1 using Part 2 Second attempt:  633216\n"
     ]
    }
   ],
   "source": [
    "print(\"Part 1 using Part 2 Second attempt: \", part2_alternative(data=input, target=2020, combinations=2))"
   ]
  },
  {
   "cell_type": "code",
   "execution_count": null,
   "metadata": {},
   "outputs": [],
   "source": []
  }
 ],
 "metadata": {
  "kernelspec": {
   "display_name": "Python 3",
   "language": "python",
   "name": "python3"
  },
  "language_info": {
   "codemirror_mode": {
    "name": "ipython",
    "version": 3
   },
   "file_extension": ".py",
   "mimetype": "text/x-python",
   "name": "python",
   "nbconvert_exporter": "python",
   "pygments_lexer": "ipython3",
   "version": "3.8.5"
  }
 },
 "nbformat": 4,
 "nbformat_minor": 4
}
