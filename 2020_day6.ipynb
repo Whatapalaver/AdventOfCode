{
 "cells": [
  {
   "cell_type": "markdown",
   "metadata": {},
   "source": [
    "# 2020 Advent of Code - Day 6"
   ]
  },
  {
   "cell_type": "markdown",
   "metadata": {},
   "source": [
    "## --- Day 6: Custom Customs ---\n",
    "\n",
    "As your flight approaches the regional airport where you'll switch to a much larger plane, customs declaration forms are distributed to the passengers.\n",
    "\n",
    "The form asks a series of 26 yes-or-no questions marked a through z. All you need to do is identify the questions for which anyone in your group answers \"yes\". Since your group is just you, this doesn't take very long.\n",
    "\n",
    "However, the person sitting next to you seems to be experiencing a language barrier and asks if you can help. For each of the people in their group, you write down the questions for which they answer \"yes\", one per line. For example:\n",
    "\n",
    "```\n",
    "abcx\n",
    "abcy\n",
    "abcz\n",
    "```\n",
    "\n",
    "In this group, there are 6 questions to which anyone answered \"yes\": a, b, c, x, y, and z. (Duplicate answers to the same question don't count extra; each question counts at most once.)\n",
    "\n",
    "Another group asks for your help, then another, and eventually you've collected answers from every group on the plane (your puzzle input). Each group's answers are separated by a blank line, and within each group, each person's answers are on a single line. For example:\n",
    "\n",
    "```\n",
    "abc\n",
    "\n",
    "a\n",
    "b\n",
    "c\n",
    "\n",
    "ab\n",
    "ac\n",
    "\n",
    "a\n",
    "a\n",
    "a\n",
    "a\n",
    "\n",
    "b\n",
    "```\n",
    "\n",
    "This list represents answers from five groups:\n",
    "\n",
    "- The first group contains one person who answered \"yes\" to 3 questions: a, b, and c.\n",
    "- The second group contains three people; combined, they answered \"yes\" to 3 questions: a, b, and c.\n",
    "- The third group contains two people; combined, they answered \"yes\" to 3 questions: a, b, and c.\n",
    "- The fourth group contains four people; combined, they answered \"yes\" to only 1 question, a.\n",
    "- The last group contains one person who answered \"yes\" to only 1 question, b.\n",
    "\n",
    "In this example, the sum of these counts is 3 + 3 + 3 + 1 + 1 = 11.\n",
    "\n",
    "For each group, count the number of questions to which anyone answered \"yes\". What is the sum of those counts?"
   ]
  },
  {
   "cell_type": "code",
   "execution_count": 23,
   "metadata": {},
   "outputs": [],
   "source": [
    "from functools import reduce"
   ]
  },
  {
   "cell_type": "code",
   "execution_count": 24,
   "metadata": {},
   "outputs": [],
   "source": [
    "def parse(input='./2020_input_files/day6_input.txt'):\n",
    "    with open(input) as f:\n",
    "        return f.read().split('\\n\\n')"
   ]
  },
  {
   "cell_type": "code",
   "execution_count": 52,
   "metadata": {},
   "outputs": [],
   "source": [
    "raw_batches = parse()"
   ]
  },
  {
   "cell_type": "code",
   "execution_count": 53,
   "metadata": {},
   "outputs": [
    {
     "name": "stdout",
     "output_type": "stream",
     "text": [
      "['ybcgtxznorvjel\\nbrlyvoexnjtgcz\\nlnbgtxvoiyecjrz', 'lcajnyxgzqwim\\nqznygxmlvwja\\ngmjzynxaqwls', 'cmljinrupeykatzdsfox\\nugwqhknvb', 'gsdqbrnhotmfwivl\\nprozsgfwnthvmiq', 'vsjpurgokf\\ndfxpqzabeulknwmjvcsr\\npfuvstryihjk', 'islxfdrtvzwkyoguh\\nogylskzvuftqhirxbdw\\nfkrtgsxudhioylznvw', 'c\\nc', 'uvwigmrlpbqh\\nqvgriwlbmhpz\\nnhlsptgbvwimrq', 'izhmeksc\\nzarebypguktc\\nfzxkveoc\\nhzcneqkl', 'wsaklcyumfjgxpe\\ngjlueyimxawpkoscf\\ntgpaeywujxkslmf', 'uzxkhngrtem\\nheumxtrkzgj\\nkzxtqvehmfyurdgi\\nxmhtzrukeg\\ntkhgujzmxenr', 'veaxitpwqlkmfcdgu\\ntuylgfjb\\nftuglh', 'uqnklfemcd\\nfueknldq\\neqkfdhnmtl\\nopyelgnqdfkxw\\nqzkslfden', 'q\\nbu\\nk\\nq', 'wqeaklcysthvrb\\nsrhcatklwbqyev\\nylrqbthswkceva\\ntsbryhlavcwekq\\naketrswybhvlqc', 'tyd\\nymt\\nyvt', 'hwvclzeby\\nvywecbhl\\nwecyqsohlvb\\ncvlwheyb\\nblyvewhgc', 'wieapdrco\\nedicwpa\\ncpdwia\\nhdwgyvpica', 'jvy\\nfjv\\nvj\\nvjf', 'czdf\\ndfzc\\ndczf', 'gpmrwtuoy\\ntymroagbipw\\nwombgpcyktr\\ndtrlongqypmwhsjvfxz\\ngmrwpyto', 'ocnmpvjx\\npvjxcm\\nbmyjrgvxpkc', 'jeygorhmxiak\\nhxifjagoemr', 'ncjziqtmpawdufxye\\neubydnxpatfwjzkcm', 'abmysdl\\ncpqbifaynmdsl\\nmjsbdyla\\nmrdbvjswyal\\nbvsladmy', 'qafokiv\\noqhaik\\noqmkifa\\nqaligznro', 'aiblwmouqx\\nmqwbaxolui\\noxuibwlmaq', 'zvefqkjusco\\nxuewoskj\\nkuzfqjsoe\\npuankilsjodbre\\nkutoqsjefh', 'celsgxhzpjrodmitfukvn\\nejkrmnpsgfxvoaihulcz\\nzuimrfyohspkjvcxelgn', 'lbrxfchematouyniw\\nlabiudxyoenh\\nikelubxgaoynhz\\njnahsdibeuxylov\\nxovbhaiunlsey', 'ipsrknazqblw\\ndgxutyvejmfc', 'sxizpwamjhn\\nimhnzxawsjp\\nahnpswxmizj\\nwmisxanjzhp', 'gtbhymj\\nzawfkbsiud', 'gylpjarczexv\\nzyajpvoecrlgx\\nkzrlojeayxgvp\\nveztfaypxqrljg', 'xfivwhodjknmzauqcletpygb\\nhypeczniafgkoqultxvbdwjm\\nqxfhjptgnlkvycoudwmizaeb\\njizanpbfcyuetmqokhlwvxdg\\ngjwtexvdfpuamiconybzhlqk', 'tvy\\nyv\\nyiv\\nyv\\nyv', 'whueklivtpca\\niplkuahwe\\ntlsekhiuwap\\nmizpgjwlbahuekr', 'mdp\\nmdp\\nmpd\\npdm', 'xjnhkvoewc\\nosfjprwxhcieavkd\\nhqjxwkvonec\\njlgxctoqhevwkn\\nkzvjhyxweco', 'yk\\nyk', 'hdnxtrvyeiwam\\nasrwvdhmxeycint\\nvwxptebdzyioagqmhr', 'tfczy\\nctyfn\\ntycf\\ncwytf\\nytfc', 'rmtbfezuojpa\\nutbjepomarzf\\nrbatejfumpzo\\nfrtuoepamzbj\\nfaejrztmbpuo', 'afenbkzjyugowxcpvr\\nwouafcenbpjvkygzxr\\ngvneprcbujxzayokfw\\nvzyparnkxcgbfwouej\\nubzxvkrcgnjeapfowy', 'vwuqrecngfdlk\\nlkrnvqgufwdc\\nwrnldgkqvcfeu\\ncuwnbgvqfdrkl', 'xbh\\nvacqro\\nsnxumhe', 'gxlf\\nfglx\\ngxfl\\nxlgf\\nlfxg', 'uzlryvkmdbweqjocatxnhi\\nlzjedxqowyhmnabkiufvcrt\\nntkrmlwcqdbzaxejyuhvoi', 'fbns\\nnbf\\nnabylt', 'arsif\\nqzorln\\napb\\ngcvyuhxtkwe\\njm', 'svu\\nuvz\\npvuf\\nucv', 'hpjfklnwizys\\npzrcfhyslkiqwn\\nzskfylihnpow\\nwgfbdkszlypeihn', 'vkmcijegnxar\\nbvknimxrejcga\\nvegkjcxniram\\negkjvmxciran\\nakgixcjrnemv', 'ewixgnuavo\\nunoeayxkgi\\nyeiaucxnm\\nixaekznu\\najulsenirbqtfhxpd', 'frqlmnxdbgewzo\\nrdtmqlzovkbuncj\\nqmzxrndoeiyflb', 'ukpnyzjiohf\\ngjfpkinzuoy\\nygjozinfupk\\niyvjpeozkfnu\\nkiupfhoyjngzs', 'hrpwvsugjafeoyd\\ndjawruhovfezcb', 'cepdjoqftlbanyzxgh\\ncgnayjbfxzeophtdq', 'xqg\\nhalqr\\nqub\\nqub', 'po\\nldjb', 'zxnqu\\nzduxsbq\\nnzuqxgf\\nniqzxu\\nzquxl', 'qn\\nev\\ncz\\nbmwjfhlg', 'kpfrostvwjqzd\\nukbsrjpdzfcowq', 'yjtl\\njytl\\nltyjz\\nyltj', 'dwty\\ndjsct\\ngtdj', 'hoj\\njyho\\njhos\\nojh', 'eupzntdmk\\npulhzta', 'vdfuricnlkjq\\ncdufvkijqrn\\nfkdrpnjcuviq\\nqnfvjudcirk\\ndrijcfkuqvn', 'nvbldpqsx\\nwbdzhqp\\niamjtyfg', 'iwqexpmtoadjvryuzshk\\ntwzoyhjukxmqsreaipvd\\numryqtvxsdpziohaejkw\\neruvdmyzapthwqixjkos', 'wtgkdqunxroablp\\nuqmljdantokrpwxg\\nnkoupqzlgxwdat', 'vepioalcghjydn\\nzutlfxvorkn\\nqbvnlo', 'lmie\\nebim\\nykmhei\\nsmie\\nmsbeic', 'segdzmcnijfpy\\npmngjzisdcey\\ndaumgeznqikljcyp', 'hocwkeizbmvgnsd\\njfirpydx\\nitqjdyl', 'dbwtrzqo\\nbwdztr\\npwbdtzr\\nwrtbdz', 'tcl\\nctl', 'izfnvwsygkjp\\nnkfpvyzsgij\\nygjvfipksnz\\nkvpgjysnfzi\\njxiboavkfnzgpsy', 'gxulavdzi\\nxeorucjdlym', 'hfc\\ncfh', 'oaixdvhwf\\nkuivdwfxzha', 'jsxny\\nynsxj\\nyjxsn\\nnxsyj\\nxysnj', 'usnjaimqdl\\ndnuxgy\\nhdnpcugz', 'ejofu\\nufe\\nuef\\nfeu', 'defovtzlc\\navocyzft\\nzxwcvftb', 'cbga\\nvgb', 'rac\\na\\njgzaxotn\\nav', 'ugnotpd\\nntugodpx\\npudgomt\\ntdislogp', 'filsprncvbdamgozwuh\\nfzqucamrswpihvdlgob', 'keaqcjtmzwipdyonvufsl\\nvoysnkmwlzqpfeguiacdtj\\nndacvykmeozbsuwpiftlq\\nwodcqfputzknsyevilma', 'aobpjhfwndq\\nwnbjofqdpah\\nfnwqdcgxphabj\\nwadfqbhinjp', 'dfegup\\npdgyu', 'qmdthgnfsoacekpjr\\nzwqjois', 'cuqwdn\\ncdnwi\\ncwyvd\\ntokwjdsxcr', 'hlbrqytujx\\nfdcxlwjquyznksv\\nwyupmxqjfilsk', 'hkrsp\\nyhwpsrk\\nkrhsp\\ngorspkh', 'kdnsfavte\\nsnadektv\\nnamkstved\\netavlknds\\nesdatkvn', 'zbvuponkx\\nzkjybcanxi\\nxbunzkv', 'sixh\\nxbgha', 'uxfay\\nurqibka\\nuao', 'lsjkxqirzbcw\\nsqkbzwjclixr\\nqsclikrzhxwb', 'ozldp\\ndlpz\\ndztglp', 'rl\\nlr\\nlr', 'xchdwlniyzjvfskqgu\\njczdgywxisl\\njxyspdclgizmw', 'dblfawuprytvz\\nmceiqnsxkgltp\\npmcxtohlg', 's\\ns\\nr\\nzdkl', 'xsftzi\\nrhmvobe\\ngitkn\\nucgzt', 'zfboewhsdi\\nsfozwbdhie', 'iulc\\ncilu\\niluc\\nucli', 'orlegwpi\\npolwidg\\npomlwiy', 'wuzngeba\\nbnazuce\\nubzane', 'vywm\\nym', 'nfmsueclkpqgwai\\nutlevwmrcxosqkpd', 'stkubmdgxnprayjvihocf\\njdnhiurkyopfsbmagxtezcv\\nfokmgyscrpijnbhxtudav\\ncaogfvytximuhrjdpbnsk', 'rsabjcmtdwynx\\nbficzdrnlsjouhta', 'mw\\nwm\\nmw', 'iebmfugxoyqlrpcvjztkwdnh\\npelfsdutxqcymaozjhnr', 'pebjavucfqyrdzgml\\ncbzypflawgmjuvredq\\nyzrujflgcqebvdapm\\ngbfuqznldejsyvparmc\\njcaqeuwvplbfgdmryz', 'hkg\\nxelcms\\nf', 'lihonytfdumjsewrzabpc\\nhlpcdubrwoazsfmiynetj\\nowuibptxmdhzyrecsfan', 'riosndbpujgcwethz\\nhwfrzietbougpsdqjn\\ndrntjpzeguiowshb\\npwubneoztjsgdhri\\nrezkbtghcjwdoinspu', 'njsa\\nu\\nfb', 'sfx\\ns\\ns', 'ucqsmn\\nistuq', 'ingklxq\\ncnoekp', 'jlygxaiwrpdfnheouvc\\ndvfaingtxwpkozjhylercu\\npigfacjweynhuovxlrd', 'vpxbtozuemlny\\njkgymlvebinctudpxa\\nbyzxemqvtulpn\\nytvunxzwqblepm', 'jfbkglhtpqudix\\ngrnicbtpqzdxv', 'bfokwpmzhtlgquaiejr\\niawgbmqvzleoxrhtfpu\\nzwompxutlbhaifseqrg\\nxpbqhitclyzrunwodgfesma', 'q\\nqg\\nq\\nvq\\nq', 'ekipdozabfsxvugqltjwyrc\\ndztsokinlyrfxceqjwuavpbg', 'eqnkifs\\nifqknes', 'laecqkp\\npugqayce\\nelcxpraqoj\\npecqvfwa\\nqcepljak', 'arnb\\nqnab\\nnbaq\\ndnbaomv', 'cbormguajxfiplwvts\\ndxifemjgwzrobtlpcqvua\\naofmcpilxjvbguwtr', 'umvdxnwzfqapk\\npwuqfzadjmne\\nuzqpmfyacdw', 'mhaeksjiqb\\nbfqjokusih\\njgklnsivbywdc\\nsxpkfirjomqb', 'nhzaplu\\nahkipmvo\\nbrtjwg', 'mkjxlagycu\\nuckjxlgma\\nkjcuxmgal', 've\\nve', 'jvkobmcq\\ngjmqkobc\\nqjbomcwk\\ncybojqmk\\nmjbqocfk', 'ducqha\\nqdlhac', 'wlfkid\\nhipcfkwdlryb\\nfwlkdi\\nkdifwvl', 'ezs\\nsze\\nesz\\nzes\\nesz', 'hz\\nutfzphv\\nahzgk\\nshz', 'jxclzr\\nrwfjmu\\njro\\nojrlny', 'topn\\nwbcojtesg\\nyrdlqhfz', 'wktxsnufbhygzraijlcoed\\nciokuzgyrsenbaxhdwjft\\nnszoywipjhrfxgqbdaeutc\\ntcxzrysbfuieaovndhwj\\nbkyouicwtfzlxshjaednr', 'aoylnseditpgum\\nounmkyzedplaibqs', 'fahocyurtgvbsq\\nbyufcgohqvatr\\nguvoyqthcrbdfa\\ncbfhayvqrugto', 'dgil\\ndig\\nidg\\napdgi\\ndig', 'rfzmeoyuq\\nremzyhbip\\nxtvrykdsancjzmw\\npzryfugom\\neryomgzlh', 'ro\\nor\\nro\\ndoar\\nrpo', 'tbomqznewpgu\\nzpwbegtquonm\\ngbunzwtqpmeo\\npmnobqtewzgu', 'tzkielrca\\npwgouhfjvdybsnqm', 'bqxr\\nom', 'fkvlmqye\\nbnqlyda\\nyojczstxupq\\nqiye', 'wcdl\\nwcld\\nlwcd\\nwdcl', 'udx\\nsuhx', 'ypmrvaj\\naphrjxowvyz\\njarvpmq\\nvpcwarbj\\ntugveaprjsn', 'cubgyqflopxnj\\napnxvc', 'c\\nc\\nc\\nc\\nc', 'ykdeblvoijpqtns\\nsbnoigt\\nnbmitoxas\\nibosnxt', 'klbdfgmo\\nva\\nylcu', 'sgdrutfcbwxleyvmqjoz\\nhztjqbduiefkvxwcygmolr\\neymudvjwlqcxrzfgtob', 'jcghosr\\njpagrmecsho', 'xtlgomkfpciezyq\\nylrgtxmchkq\\ndgtlkwymvxnqc\\ncgxalbkydwsjmqt', 'lvg\\nvg\\nvjgka', 'xulzdqyef\\nxuezfldyq\\nzduyfqexl\\nlqfezuydx', 'afpboknehzmculswdyjqix\\nwinjabfuyedmzoshxlcqpk\\nsmnaybfjzkowdpleiuchqx\\nbqsuknafemzvpljihwycdox', 'huvrzdawnce\\nirvodxzmnksq\\ntvrdneazfcu\\nnldygvuezr', 'ifwousayrbjvxcpld\\nugrnfjhvbcoatspxk\\nvsiobyrcpjdfzuaxq', 'ubeisxaw\\nklqn\\nok\\nrmf\\nn', 'j\\ngrpy\\nmnwf', 'yrsnckxbuvhdtmgeqapj\\nasjkxuymdbrlechvqotngp\\nadrjpnbhmutgkxecyvqsi', 'agtlryz\\npywxhgqu\\nokyghqduj\\nmbycgvhjq', 'aihswznpod\\nbdaezc', 'grdiok\\ndtkoxqrnl', 'vqjpfiembrcyohxlgdts\\nuhvgxiceoyafmtpqs\\ngqpcfextaviomwhys\\nvoygtpxhmiqcfse', 'alv\\nxohjegy', 'k\\nz\\nh', 'wdoc\\ndwco\\ndomcw', 'pencwlstgb\\ntoapxnsye\\ntaehsxpjn', 'unhav\\ndbslritz\\neucw\\nekv\\neag', 'fewghvcj\\nhcejwfvg\\njgxwfvclheu\\newjfzvghc\\nehfcgjwv', 'moaclkpxythqvesdgzuwib\\nnrvlkyaiuhwsxfjzeoqmdb', 'hda\\ndah\\ndha\\ndha\\ndha', 'kgu\\nefntky\\nliw\\nzyh', 'zqtohusn\\njmuhq\\nlxqvkruhciwey\\nmjqthzanbu', 'ljtief\\nlijeft\\njlteif\\nfiejlbt\\nfjtlie', 'qdxygilu\\ntldagovk\\nnpmdckoaltg', 'i\\ni\\ni\\ni\\ni', 'wk\\ndal\\nuzmbsen\\nk', 'cqlxwzvetfakbidmgoujhs\\nafzghkswqibynljtoecvrx\\nswzkjhatgqvblxfneoci', 'h\\non\\nh\\nh', 'fzvckrajbeso\\nejrcfnsxv\\ntlupewdmcirygv\\nvjqrec', 'hadxcqevfmr\\nhxdarvmfcqe\\nchdvexqmfr\\nvrhmxecq\\nehoxqnrcumv', 'wkdtuyegzqichna\\nuihqapcwdmteznykg\\ntnjrqcydihfgvwzbseuak\\ndagetcyqizhnuwk', 'jie\\nbei\\nei\\neji', 'td\\nt\\nt\\nt', 'dbqvtxjeranwmofhigc\\nmtgcdevirwahnxjoqbf\\ncftanqvibjmhxgowyred', 'iqgphzrawkevmjfds\\njhifptdmra\\njdxaobfypmnhirc\\nxtdamplhrfibj', 'majypozns\\npomjzusayn\\nzmspayjon\\nmjnzoaspy', 'puvwane\\navwpnue\\newvaun\\ndauqnevw', 'jsvcumahzqktyp\\nobifedg\\nwnolrxg', 'ewgot\\nodycnb\\ntjgwo', 'di\\nid\\nid\\ndi\\nidcw', 'itovydpksgxmblqhun\\nogxaiurvmhlsfwdbpzcy\\ngdemlsyaijofbpuvxhz', 'kwdqozmvuegtsrxi\\nuyetkxigdwosq', 'cw\\ncw\\ncw', 'aoh\\nano', 'rnywdtil\\ndpvhtrf\\ntgblnpd\\nkeactdx\\ntgrdzos', 'mfip\\nimpf\\nfmpi\\nimpf\\nimfp', 'kqpvbyjnewx\\nywjxpknqzeb\\nnqeukpjbwxy\\npenxzqbjykw', 'zpyjigfcuxdktarq\\nyapfiqrtdkcgjx\\naepjcrbgyxftikdq\\njptaiqdcykxrgf', 'ftwedcvib\\nbtcdfewl\\nivdfwbtce\\nftcdxeqbkwu\\nbvfeitwcd', 'uiqj\\nqi', 'oxghqnsd\\nudygoh\\nhdoxg\\nrpafchvogd', 'hpbytijfwx\\njywtpixhbsf\\npwhyfjbxiqt\\nqtipwfjxbhy\\nxqhfbptywij', 'dfslmxhie\\nsmzwlfqehi', 'kpr\\nstcve', 'irt\\nrti\\nirt\\nrti', 'bunl\\nnlb\\nlprhdby', 'bo\\nob\\nob', 'bowdlaegtqypmiz\\nwonjglmdyapqhike', 'akwfdicyteo\\nkaoewyidtcf\\nwyafoeitckd\\nctwaifokeyd', 'usikpnl\\nplunkis\\nnliskuwp\\nupisnkl\\nalinspukr', 'fmosyehatupnxcrbl\\nzmtfcoghsperajnbylxu\\nltnfweypcbmarosxhu\\nfuabtspeojcrhknlmyx\\npcmdlsoxrytevqfnbuahi', 'tpjvhomdzurfsbqgxieynw\\ndeopwshxkgtibylnzqmrfujv\\nbpxszafutyhgdenwvmqijro\\nixtjfrpbozsngqwmduhyve\\nelfvxrhspguyinzjwtmbodq', 'kvgqfjtzonx\\nlptjicfezk\\ntbxkfjmvz', 'd\\nq\\nd\\nrg', 'gvnmslbrqduhipyx\\nsygxvmblqrjhipau\\nufirbqgpvhsklxmy\\nbhrpgqxmivyulzs', 'mdfikeywgxsqlbn\\nilqgnfbdkexymsw\\nmynqlfgeidbkxws\\nkndefxlymisbgqw\\nbmgfeiwxkndsqly', 'firjqazycdmlpebwvkuh\\nnyopgcvhsxlujedkmfrq', 'ctmupagrjydizes\\nhdqxglckzvabwi', 'uogtnvfbwa\\nqkgxofaeictuvnj\\nngfuolytshmvr', 'bhgrcpltzvqjwfas\\ntchsrqzwbpgvafj\\nwgharjbsptqzfvc\\nqftchjazrgspbvw', 'sbzjewryqhpxcivnk\\nexpnzhsqykirbjcw\\noyagjndwhkpxlqbmcrizefs', 'sfhpqjndwvb\\nrjvbwnphsqfedm\\nndbphlfwjvqs', 'whrefxbvuma\\nhxmrubvfwea', 't\\nt\\nt', 'favkeblzcnt\\nymcz\\nxucgdszp\\ncjzrh\\nirpqwozc', 'my\\nm\\nm', 'alsknvxifqcpjymrz\\nfpjcrqzmlyxvsaikn', 'yaj\\nykanc\\natx', 'ilupyjozc\\nzcjbiolu\\nczjioulsg\\ncokzbjuil\\nauvmjzohqrwilc', 'wsxunpgv\\nvgwsu\\nugswvq\\nusafwhvg\\ngfwuqsv', 's\\nsw', 'wvqdzfolabmirjc\\nljwarzcmbfqodiv\\naswzbmdjtnlfqovgxc', 'znrmjsy\\nnsjrymz\\nymrnzsj', 'vpgac\\ndgjvpcua\\nvycgpfa\\npvcga\\nrapvcg', 'mb\\nmb\\nbmnt\\nbm', 'gsnjzuby\\nwntqv\\nnhld', 'onzrkyudwapxf\\ndkupywnraxof', 'lmst\\nslmt\\ntldsmvp\\ntsmol\\nsltm', 's\\nn', 'qsagxhkyeinrvb\\nkiyeqrnbgxvash\\nsyerxqghivnkab\\nrqkasenivxghyb', 'ncfrvqmgkahtpbozdjy\\nfvdzwkoam\\nlixodafekmzv\\ndokuazvfm\\nzdoakvfms', 'vlhbq\\nouqvrxhls\\nsfhqlvx', 'qxorudp\\npeduq\\nqundp\\nqdpu', 'rhpyabj\\nbrycauhjp\\napbhrxyj', 'ygk\\nktpy\\nkvyn\\nyvkn', 'xkhagnmpdcv\\nhjoakl', 'dxcjugqvpleairsytkh\\nrqndpilgchysvoeutxma', 'njeikmhawblcdxoygufrpt\\ngnrxuicweofdtpkjhslamby\\nperifdanxhwtbzokgumyclj', 'ghpdecujkxzltysfbv\\nxftkvhudgcplyjzesb\\ncbksuezftdjhwvxgipyl', 'wxtz\\nwztx', 'bcva\\nacvb\\navcb', 'oydfhxunzaijlpgeqb\\nqzeafxwrpiycndmogbj\\nfinjbylagzdqxoep\\npyqbjondvzgefixa\\naonbixfejqdpgzy', 'edzm\\nejmz\\nmgliz', 'q\\nqb\\nyn\\nglq\\nfwu', 'whbkfvgpmjzdl\\ngzmvwpjdbltfh', 'prkxeaoygt\\nzfrewaysbtx', 'hoytqlezuxdmcnw\\nzqtyewudcfnomxh\\nhrxinwocqtdemzu\\nwzmjhquxdngcpoe', 'pnwldbucofxq\\nnlwbcoqfxpud\\nicwpxnbodyqmluvf\\nozfwdhclupxbqn\\ndcqonulbwpxf', 'ywfjkqrgidnhbuea\\naeyidkwghubrjqf\\nihjrakdwbuefgqy\\nirdjgbwfeqaukyh\\nhyeujqrkiwdagfb', 'jstapqk\\nwmeujqts\\nutzmwqjs\\nzxqbmstj\\nyrsthdignvqj', 'yva\\nactvy', 'okqvf\\nmfok\\nakfno\\noakvf', 'cdfugre\\ngedfucr\\ndfcerug', 'ingczmjrfp\\npmcfrgnijz\\nmepzjirfcgn\\nzsnmhpfguwircjq', 'dpw\\nzlpwd\\npwd\\ndpw', 'wbzluvga\\nyiupsdj\\nyfu\\nncfou\\npfu', 'fbxnrjdosah\\nrnfdasxjbhoz\\nnohdxufrjkabs', 'dfgyeismzkr\\nnhukvdazrwgqisl\\nxbzkgsmderi\\nksditprgzb\\nzkdsgir', 'gjytlskbrhdcwfq\\nljirabqwtygcosuhd', 'bk\\nkbdi\\nyjk\\nik', 'ksquemnvtlxofj\\nxeqoflmadtunsvjkc\\njtvnequxslfmok\\nqvnkmtxosljeuf', 'zxqlnj\\nqzkjl\\njqlz\\njlqz\\nqjzl', 'jniylks\\njiyheksb\\njydtiaks', 'o\\no\\nh', 'e\\ne\\ne\\ne', 'hrpgqasc\\ngrpschqa\\nrzgcsjphq', 'ecitkohxdb\\nokteihdcxb\\nxobijctedhk\\nktboecaixhd', 'paubelofzrwmsvhg\\npagezysfb', 'esgvqfzkijypan\\nzeivfdksgqapyrjn', 'wi\\ni\\ninkm\\ni', 'zcun\\nuc\\nuc\\nokcug', 'trogu\\noyrug\\nozgrfuqn', 'raj\\noz\\npbr', 'iwhxjelgd\\njiwhexldg\\nhlgjxdwei\\njlwxhgeid\\nxhldjzgwtmief', 'kclge\\nsrlkec\\nkelc', 'eofisurvqxh\\nukvfrisqxoe\\nuexrqifsvo', 'okdimecwvfuhrljtpxgyanbzqs\\nxacwijpeqlkbuvdsgofmtnzhyr', 'amwgdsovpnryclfeit\\nrcwyfevgotlidanspm\\nvtneaoylpdifcrwgsm\\ntonlrdacsfigpyvewm\\npisgdcmtovwfelnyra', 'uetxnmzilhksb\\nkminofleutjwdpz\\ntmeculxqkzin\\nkqlimryetnavzu', 'cmnjsbqvde\\nqmzdbnjsv\\nvngjtmpsbqd\\ndqnmspbvj\\ndmsqvjbn', 'kgxdn\\ngxndf', 'onpwxkus\\nsgnpkw\\npwnrvks\\nsknbpwta\\nwopksn', 'gfqylwtcvpjsk\\ncwvplskgfxty\\nlkgvywscptf\\nogwspvfylktc', 'dgbcvjfieurw\\niknqeztowur', 'fzsar\\nfno', 'jiaxdfroq\\nrqhxjigaynd\\niudjaqrx\\nqmxardfvji\\nqxjcdira', 'ghfosy\\nyfgs\\nhfspb\\nfucaiq', 'ynrbkleixc\\nsezybviarnl', 'ywcanufmveh\\nvafuecjm', 'qcrmvuihkboexdlftp\\nkufohcswxpearvbyqd\\nhrnzpkocxfdevqujbs\\nqoxuhjpfvbckdre\\ngkdfvpbheqocuxr', 'wtk\\nktw', 'xcadnijfkvqystgluz\\nkznliathwoxsmvybrgeqf\\nklzsivxayqnfgut', 'clo\\nlco\\nocl\\noacql\\nlco', 'iyzkvsdhpngo\\nremlyvz', 'uyzw\\nzuv\\nzu', 'tq\\nt', 'oeicrl\\nbyxrsfdz\\nrcjog\\ncr\\nirck', 'pgistdzl\\ny\\nxmq\\nm\\nafn', 'g\\ndhg\\ng\\nvwg', 'nfgtoy\\nugyft\\ntygfo\\nfutyegr\\ngstlwpkyf', 'vn\\nnmv\\nvn\\nnv\\nnv', 'ozivnfbaktuedlrcs\\noramfqlcbuswtvdzjni', 'jxp\\nxpj', 'mc\\nwabq\\nlrgsuezypd\\nwiv', 'eofl\\nsnpkflyqmdzwb\\njehlirf\\ncjflrh\\nfljc', 'ltubcvkymoajwxzsrhndpgf\\nogvibsazqtujrdewfxymph', 'egdchpsvwjfaqybn\\nzndqagubwpkscyjh', 'wlbjgnopeayszicrmf\\nnosbgiezpjaywqfmrlc\\njgilbrmwosyzcafnep\\nagycorlqmzweibpjfsn\\nzjlrpnfbeasidmcgyowt', 'vijh\\nndsfcamyxz\\nwoujvp', 'uhealmbgtyix\\nzilxmb\\npvxlfqmwsidb', 'fjmdnvrbg\\ngdlvuqhkpb\\nkbczdvgp', 'lqkt\\ntkjqi', 'wcrmtpf\\nbkqws', 'ngzltjq\\nnlkut\\niwlrytn\\nxltsmnu\\nztlnacfj', 'exfviczl\\niczhelxv\\nzelivxc\\nvfilzexcp\\nxlzvfice', 'ytgac\\ntacyk\\nqacy\\ncandymh', 'yrqczhgfovwnisbu\\nvhlgknps', 'sbwugclexy\\nwbzuhlgsc\\numvwiknljcdotbfgs\\nrluhbcqgsaw', 'vymaruskjc\\nakvrsmjuyc\\nvrcyuasmbjk\\npursajkvycm\\nczpmyusvajrk', 'ofwvqmlr\\nvmq\\nvmq', 'ysnwieoauzq\\nnuyqesaowz\\nyoesanuwqz\\nkuzgoswayqnle', 'eomivztrgn\\nivmretong\\ninvkmrge\\nvnmzegcri\\nvyrmflsjgiuen', 'eqrmyzpvkwfbgtjlxshdoin\\ngzolfstrvybjeqnmxpikhd\\nnroxitkevgzmypjdqbsfhl\\nofgmtrjilnbekxhsqyzdpv\\ndhlqnvgsjiyzbkpotxrefm', 'hozruskcedfwiaq\\ncoptzfyuvxldrm', 'l\\nl\\nl', 'dyslqoiw\\nymjqdi', 'syxnhbi\\ndpkvjr\\neukgwozaf\\nekjz', 'yvwbgqcrotjlnpeha\\nlhpoetrgabvnqjwy\\nblgszmfkhyntepwoaixqrvj\\nbyrpjoenhagwtuvql', 'z\\nv\\ntgy', 'd\\nd\\nd\\nd\\nd', 'dc\\ndca\\ndc\\ncd\\ndcz', 'locsfetpwknxbzgvja\\njxgnvfzphceiskaotwl\\nfotrsavxmjyhnwpgzelck\\nsfvpqhxgyjeonazclmwkt\\nchoefxapjniztgwlvskq', 'kbyxoztlp\\nilptzojgvnexw\\natxmzkolcp\\nuqkszlopdxt', 'zj\\nojpz', 'khjzinxbsvytagfwrdpclm\\ngkfnjmrsaxublcov\\nnxlacsrmgkvbfju\\nuagsxkrfmbvcjnl\\nkexajvcfrnlsmgb', 'jwstzrmqyg\\nqiolxndue', 'aljc\\nonxjpaltygwvucz\\nqacrjls\\najcfhl\\nijqralc', 'hinlgsoyjrwux\\nonlujsyxgirwh', 'l\\nl\\nl\\nl\\nl', 'eoqhmwpjxdkib\\ndpewgjm\\nepjmdw\\nedpnmjw\\npjdewm', 'wvhaks\\nvrgoah', 'dvqanm\\nladgcypwnmhjz\\nxsidnmae\\nfidranekum\\ndatnmb', 'vkashdfylrcigpz\\nfzpsydgrvwcl\\nkdpglscryfz\\nsgzqcytfoplebudmxr\\nldzsywpjfrgc', 'gtme\\nmgfptwe\\ntmge', 'ameogqc\\nogqcema\\nmeocqag\\necmaoqg\\noeamicgq', 'jg\\nhgij\\nfjg', 'dgypvjbrik\\nzriqkvgpdbjaxy', 'ezfbiwhrtgl\\nozfxebispgdtnv\\nbtegzjafui', 'jiabmdnuftcsgqw\\nkazroxypl', 'mqoaxjcuzhngk\\njgswxaykfmehvuiqzon\\nlbuakqzjhdmnxgo', 'bacszqyketnvpguofhrwmx\\nptszqxamuewikbngyfhvdroc\\nheqrcosaxtwgbplfnzuvykmj', 'knxabluhoyviedjfpsmrqcw\\nscqixedwvumkoanjbrfyhl\\ntisjfuywcqnremhobldkaxv\\nshvojgwydialxekbmcufnrq', 'nyxmrhszik\\nmapcikqstjfrzx', 'gdlctrjzek\\nhjsgkeyr', 'qepm\\neqlpm\\neqmp\\nmqxepn\\npqem', 'bvgkrl\\nvboc\\nwcbvziu\\nvqfpdabh', 'gpn\\nngmpc', 'twpvxflgjqoumydkbc\\nuprelhcmqwdksixynzta', 'h\\nh', 'jhnxwesqrpc\\nvpsgmitbaoyfudjz', 'yuwbhtsmjlcqefdv\\nebmutvlfcqdsjhy\\nutswqzjlbvycpadefmh\\nsejvrxgqdlmbtouyhnfc\\nzijctvqmlyuahfbsdep', 'dflwcg\\nmrflgw\\nwfduygl', 'ytnlzrju\\nuvztnjly\\nzljbryutn\\nzyjlnut\\ntljuozyn', 'hskjpotzxndciuveygqbf\\ntovpizqhkfjyxucsgdbne\\nzchinjfgpxuvqodbtseky\\newpzdvhbgqnkcfujixsoyt', 'hwogmrjsanyfkxcuzlqip\\nzgefdbcrvawhsknxlup', 'vpnoqlyctz\\nlazbrndtc\\ncbzlduthn\\nztnslmcwkegjx', 'g\\ng\\ng\\nmg', 'scdpkxnwevjzuliaot\\nieltzxk\\netkilxz\\nekrxizlmt\\nlztxefikb', 'fojsglve', 'mpdxfg\\nkfdxma\\ndkfxavtm\\nwnbxdmcof', 'lsoytwjgnxfpu\\njxnluyisgp\\njygpxslnmur\\nnpsjlguyx', 'rdh\\nrdh', 'apbutxfrwydzin\\nxrgnqelbdtoczafhjm\\ndrkuztfnxba', 'bdmstxhqnrzeyj\\nfubwrmohipenjclkgya', 'usrxcktp\\nsrxotup\\nrulpxit\\neuxptrn', 'pryjxzemofknaqwh\\nowzqrhmknsjaedxyfb\\nahkijzwfrmqnxolscvey\\nuqnxfkrwmatcsgeyohjz', 'gq\\nq\\nq\\nq', 'hbkieng\\nbehdikgm\\ndkbeygh\\nebgshk', 'xcdliskjvqhazmgp\\nzdilgjchpavusmxk\\njwxavzlkchdobmgyspi\\nvijgcxakdhlpqszm', 'qkoxgd\\nzkuxdmbyqcglf', 'hjxscnryl\\nnsmahy\\nsnmhy\\novthdys', 'vbwhoizkgsncaqr\\nwaobkhsivcrznjqg\\nwzsrcgnabkhoqiv\\noanbsyrhicgwvzkxq\\nhurqnbcgovfkawzis', 'zxvbs\\nbdpn\\nqb\\nbv', 'hdkixlmqovte\\nihtrouqdnxlk\\nltioudhqkx\\nbxidhtklufoqw', 's\\nscvai\\ns\\nsb\\nws', 'uaxeycr\\naubsiqxrv\\naohrdkxu\\nreaux', 'trcfn\\ntxbgc\\ntcp', 'udrgmasezv\\nzotwyimlkq', 'o\\no\\ntdo\\no', 'ambertifpjuzvwk\\ndcyhwogqfiaxnlzps', 'smzcqpikr\\nszmqcpkri\\ncqokmsrpzi', 'tzkopc\\npkcz\\npckz', 'avioqkyrntbesulwzp\\noylhrtfzvainkuxbw', 'hqieuv\\nhiqcu\\nihwuq', 'itfe\\nwcied\\nuvnigke\\nltieq', 'jrbmngvx\\nwousyqdiehcgk\\nztfplg', 'zdhewmyr\\nwjgqt\\nynwdcef\\nkmvnwhfep\\nwyco', 'x\\nx\\nx\\nx', 'phkfsnxwce\\ndztiaygqu\\njvrmltid', 'ayhkqv\\nhavyqk\\nvyhkaq\\nvyajenhgqk\\nvakhyq', 'dxlepoksgznvuyjcihwqtf\\nlyqaihgexkcozwdsjnbtmfu\\nysecldonhztfkruwxgjqi', 'epo\\nazoeq\\nmfg\\ntbujywxr\\neod', 'myek\\nkmey\\nmeky', 'iwyngr\\nvishbag\\nkinsq\\nlzxoeticmudfp\\nnhjswiv', 'fbtscavdzrkxeqyuhiw\\norafstylxkgphmed\\nfehrsanktydx', 'covl\\nypkqdc\\nxzc\\nejwsgafcbh\\nvcutm', 'mlsfecori\\nehpsya', 'dpvgtqzocn\\nngdvoqptzc\\ntoqcdgvnpz\\nvdqptznocg\\nncgzqdotvp', 'adsqywe\\nmsdeawq\\nedwaqs\\nvedwasnq\\nqdaswe', 'bqmpnhvtoakiyr\\nroufkiapnqeym', 'fydeiohqas\\nsqoycfhad\\nsafyqhod\\nghadsxfyqomv', 'qdxmrofjwb\\nqwkidye\\nlgqyziawd', 'erqsduihwmjcz\\numericogzyjsqhn', 'hsct\\nhsct\\nthcs\\nctsh', 'vtnbqai\\nqtianb', 'tdwhrmbvyalqfojzicpxe\\ncltemhoxwbpqyrijvzad\\nwxjmpyzdqoeabichtrlv\\nogzwhbdmtqxecvryjipla', 'wnkjevsuqrtbfygih\\njzagctiudpbqyfvhomkr\\nqtfkshvgryibujn', 'qowgkyzsfetprnd\\nsgrdfepwnyzqtok\\npgnrwdkzofyesqjt\\nwfcpkntezoyshgdlqr\\ndfrongetpszqwyk', 'fdmxzviro\\nodcszimujfqaknx\\nxmoivfhdwz\\nyoidfzmvxbg', 'nxmtopbehydczsrj\\nhrtspxjyiwczdngfb\\nuzjranxksdbltpyhv', 'zoia\\nzioa\\ncazoi', 'kwfnrcbjushlme\\nwsnmelhrjcubk', 'lhf\\nhl\\nhl', 'qvtia\\nvqal\\novqa\\nqva\\nvalqy', 'jxfkt\\nevhj\\nkgjo\\npuyasnjliz\\nxkmj', 'cbhxvorjpgzd\\ndcbxgjhporzv\\npjdbxhrogzvc\\nogbrpjdvxzch', 'ks\\nskh\\nsk']\n"
     ]
    }
   ],
   "source": [
    "print(raw_batches)"
   ]
  },
  {
   "cell_type": "code",
   "execution_count": 54,
   "metadata": {},
   "outputs": [],
   "source": [
    "clean_batches = [person.replace('\\n', '') for person in raw_batches]"
   ]
  },
  {
   "cell_type": "code",
   "execution_count": 55,
   "metadata": {},
   "outputs": [],
   "source": [
    "yes_sets = [len(set(group)) for group in clean_batches]"
   ]
  },
  {
   "cell_type": "code",
   "execution_count": 56,
   "metadata": {},
   "outputs": [
    {
     "name": "stdout",
     "output_type": "stream",
     "text": [
      "[15, 15, 26, 18, 26, 20, 1, 16, 23, 18, 18, 21, 20, 4, 14, 5, 13, 13, 4, 4, 25, 13, 13, 19, 17, 14, 10, 23, 23, 24, 24, 11, 16, 17, 24, 4, 19, 3, 23, 2, 21, 7, 12, 18, 14, 14, 4, 23, 8, 25, 7, 20, 13, 26, 22, 15, 18, 18, 9, 6, 12, 14, 16, 5, 8, 5, 12, 13, 20, 20, 18, 23, 10, 18, 24, 9, 3, 16, 16, 3, 12, 5, 17, 5, 14, 5, 11, 12, 20, 23, 15, 7, 20, 16, 22, 9, 11, 14, 7, 11, 13, 7, 2, 20, 25, 6, 18, 10, 4, 11, 9, 4, 21, 23, 20, 2, 26, 20, 10, 22, 20, 7, 3, 8, 11, 22, 22, 19, 26, 3, 24, 7, 17, 9, 22, 17, 24, 18, 10, 2, 12, 7, 13, 3, 11, 13, 19, 25, 18, 15, 6, 26, 5, 12, 25, 6, 22, 4, 5, 21, 15, 1, 19, 13, 23, 11, 25, 6, 9, 23, 23, 24, 16, 9, 23, 21, 13, 11, 23, 10, 3, 5, 16, 18, 12, 26, 3, 13, 22, 7, 17, 1, 12, 25, 3, 25, 14, 23, 4, 2, 20, 25, 10, 9, 26, 11, 4, 26, 17, 2, 4, 22, 4, 13, 18, 14, 4, 16, 12, 12, 8, 3, 9, 2, 19, 11, 10, 26, 25, 18, 4, 21, 15, 25, 23, 23, 16, 24, 15, 11, 1, 26, 2, 17, 8, 20, 12, 2, 20, 7, 11, 4, 15, 13, 8, 2, 14, 26, 11, 9, 10, 7, 14, 22, 24, 20, 4, 4, 23, 8, 9, 14, 15, 21, 18, 16, 22, 5, 8, 7, 16, 5, 18, 14, 23, 19, 6, 17, 7, 13, 2, 1, 10, 12, 17, 16, 5, 7, 10, 7, 13, 7, 12, 26, 18, 25, 14, 6, 14, 15, 18, 7, 17, 13, 14, 12, 26, 3, 25, 5, 16, 5, 2, 16, 15, 5, 14, 3, 21, 3, 18, 20, 26, 19, 21, 18, 20, 17, 6, 11, 19, 10, 11, 19, 25, 13, 8, 14, 18, 23, 22, 1, 10, 21, 25, 5, 1, 4, 24, 23, 4, 25, 18, 21, 13, 1, 15, 9, 25, 25, 7, 8, 5, 14, 21, 23, 23, 26, 25, 17, 13, 7, 18, 5, 26, 1, 24, 25, 10, 11, 22, 25, 24, 2, 22, 8, 15, 16, 3, 24, 25, 13, 26, 2, 11, 21, 14, 15, 20, 9, 18, 7, 16, 9, 18, 3, 26, 10, 6, 21, 8, 14, 25, 19, 1, 24, 10, 26, 18, 4, 26, 25, 23, 13, 10, 10, 17, 15, 18, 17, 4, 7, 22, 24, 19, 22, 25, 5, 14, 3, 8, 20, 12, 3]\n"
     ]
    }
   ],
   "source": [
    "print(yes_sets)"
   ]
  },
  {
   "cell_type": "code",
   "execution_count": 57,
   "metadata": {},
   "outputs": [],
   "source": [
    "yes_count = reduce(lambda a, b: a + b, yes_sets)"
   ]
  },
  {
   "cell_type": "code",
   "execution_count": 58,
   "metadata": {},
   "outputs": [
    {
     "name": "stdout",
     "output_type": "stream",
     "text": [
      "6430\n"
     ]
    }
   ],
   "source": [
    "print(yes_count)"
   ]
  },
  {
   "cell_type": "markdown",
   "metadata": {},
   "source": [
    "## -- Part Two ---\n",
    "\n",
    "As you finish the last group's customs declaration, you notice that you misread one word in the instructions:\n",
    "\n",
    "You don't need to identify the questions to which anyone answered \"yes\"; you need to identify the questions to which everyone answered \"yes\"!\n",
    "\n",
    "Using the same example as above:\n",
    "\n",
    "```\n",
    "abc\n",
    "\n",
    "a\n",
    "b\n",
    "c\n",
    "\n",
    "ab\n",
    "ac\n",
    "\n",
    "a\n",
    "a\n",
    "a\n",
    "a\n",
    "\n",
    "b\n",
    "```\n",
    "\n",
    "This list represents answers from five groups:\n",
    "\n",
    "- In the first group, everyone (all 1 person) answered \"yes\" to 3 questions: a, b, and c.\n",
    "- In the second group, there is no question to which everyone answered \"yes\".\n",
    "- In the third group, everyone answered yes to only 1 question, a. Since some people did not answer \"yes\" to b or c, they don't count.\n",
    "- In the fourth group, everyone answered yes to only 1 question, a.\n",
    "- In the fifth group, everyone (all 1 person) answered \"yes\" to 1 question, b.\n",
    "\n",
    "In this example, the sum of these counts is 3 + 0 + 1 + 1 + 1 = 6.\n",
    "\n",
    "For each group, count the number of questions to which everyone answered \"yes\". What is the sum of those counts?\n",
    "\n"
   ]
  },
  {
   "cell_type": "code",
   "execution_count": 62,
   "metadata": {},
   "outputs": [],
   "source": [
    "group_responses = [x.split('\\n') for x in raw_batches]"
   ]
  },
  {
   "cell_type": "code",
   "execution_count": null,
   "metadata": {},
   "outputs": [],
   "source": []
  },
  {
   "cell_type": "code",
   "execution_count": null,
   "metadata": {},
   "outputs": [],
   "source": []
  },
  {
   "cell_type": "code",
   "execution_count": null,
   "metadata": {},
   "outputs": [],
   "source": [
    "def count_all_agree(response):\n",
    "    for person in group_responses:\n",
    "    \n"
   ]
  },
  {
   "cell_type": "code",
   "execution_count": null,
   "metadata": {},
   "outputs": [],
   "source": []
  }
 ],
 "metadata": {
  "kernelspec": {
   "display_name": "Python 3",
   "language": "python",
   "name": "python3"
  },
  "language_info": {
   "codemirror_mode": {
    "name": "ipython",
    "version": 3
   },
   "file_extension": ".py",
   "mimetype": "text/x-python",
   "name": "python",
   "nbconvert_exporter": "python",
   "pygments_lexer": "ipython3",
   "version": "3.7.3"
  }
 },
 "nbformat": 4,
 "nbformat_minor": 4
}
