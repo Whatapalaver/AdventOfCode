{
 "cells": [
  {
   "cell_type": "markdown",
   "metadata": {},
   "source": [
    "# 2020 Advent of Code - Day 4"
   ]
  },
  {
   "cell_type": "markdown",
   "metadata": {},
   "source": [
    "## Part 1"
   ]
  },
  {
   "cell_type": "markdown",
   "metadata": {},
   "source": [
    "The automatic passport scanners are slow because they're having trouble detecting which passports have all required fields. The expected fields are as follows:\n",
    "\n",
    "```\n",
    "byr (Birth Year)\n",
    "iyr (Issue Year)\n",
    "eyr (Expiration Year)\n",
    "hgt (Height)\n",
    "hcl (Hair Color)\n",
    "ecl (Eye Color)\n",
    "pid (Passport ID)\n",
    "cid (Country ID)\n",
    "```\n",
    "\n",
    "Passport data is validated in batch files (your puzzle input). \n",
    "Each passport is represented as a sequence of key:value pairs separated by spaces or newlines. \n",
    "Passports are separated by blank lines.\n",
    "\n",
    "Here is an example batch file containing four passports:\n",
    "\n",
    "```\n",
    "ecl:gry pid:860033327 eyr:2020 hcl:#fffffd\n",
    "byr:1937 iyr:2017 cid:147 hgt:183cm\n",
    "```\n",
    "\n",
    "```\n",
    "iyr:2013 ecl:amb cid:350 eyr:2023 pid:028048884\n",
    "hcl:#cfa07d byr:1929\n",
    "```\n",
    "\n",
    "```\n",
    "hcl:#ae17e1 iyr:2013\n",
    "eyr:2024\n",
    "ecl:brn pid:760753108 byr:1931\n",
    "hgt:179cm\n",
    "```\n",
    "\n",
    "```\n",
    "hcl:#cfa07d eyr:2025 pid:166559648\n",
    "iyr:2011 ecl:brn hgt:59in\n",
    "```\n",
    "\n",
    "The first passport is valid - all eight fields are present. The second passport is invalid - it is missing hgt (the Height field).\n",
    "\n",
    "The third passport is interesting; the only missing field is cid, so it looks like data from North Pole Credentials, not a passport at all! Surely, nobody would mind if you made the system temporarily ignore missing cid fields. Treat this \"passport\" as valid.\n",
    "\n",
    "The fourth passport is missing two fields, cid and byr. Missing cid is fine, but missing any other field is not, so this passport is invalid.\n",
    "\n",
    "According to the above rules, your improved system would report 2 valid passports.\n",
    "\n",
    "Count the number of valid passports - those that have all required fields. Treat cid as optional. In your batch file, how many passports are valid?"
   ]
  },
  {
   "cell_type": "markdown",
   "metadata": {},
   "source": [
    "## Part 1 Solution"
   ]
  },
  {
   "cell_type": "code",
   "execution_count": 67,
   "metadata": {},
   "outputs": [],
   "source": [
    "reqd_fields = ['byr','iyr','eyr','hgt','hcl','ecl','pid']"
   ]
  },
  {
   "cell_type": "code",
   "execution_count": 68,
   "metadata": {},
   "outputs": [],
   "source": [
    "with open('./2020_test_files/day4_test.txt') as f:\n",
    "    test_data = f.read()"
   ]
  },
  {
   "cell_type": "markdown",
   "metadata": {},
   "source": [
    "Uggh - this makes me shudder with its ugliness"
   ]
  },
  {
   "cell_type": "code",
   "execution_count": 78,
   "metadata": {},
   "outputs": [],
   "source": [
    "def extract_batch(input='./2020_input_files/day4_input.txt'):\n",
    "    valid_count = 0\n",
    "    with open(input) as f:\n",
    "        batch = []\n",
    "        for line in f:\n",
    "            if line == \"\\n\":\n",
    "                check =  {item.split(':')[0]: item.split(':')[1] for item in batch}\n",
    "                batch_keys = list(check.keys())\n",
    "                if all (k in batch_keys for k in reqd_fields):\n",
    "                    valid_count += 1\n",
    "                batch = []\n",
    "            else:\n",
    "                batch.extend(line.rstrip().split(\" \"))\n",
    "        if batch:\n",
    "            check =  {item.split(':')[0]: item.split(':')[1] for item in batch}\n",
    "            batch_keys = list(check.keys())\n",
    "            if all (k in batch_keys for k in reqd_fields):\n",
    "                valid_count += 1\n",
    "        return valid_count\n"
   ]
  },
  {
   "cell_type": "code",
   "execution_count": 79,
   "metadata": {},
   "outputs": [
    {
     "data": {
      "text/plain": [
       "226"
      ]
     },
     "execution_count": 79,
     "metadata": {},
     "output_type": "execute_result"
    }
   ],
   "source": [
    "extract_batch()"
   ]
  },
  {
   "cell_type": "markdown",
   "metadata": {},
   "source": [
    "### Refactor Attempt"
   ]
  },
  {
   "cell_type": "code",
   "execution_count": 80,
   "metadata": {},
   "outputs": [],
   "source": [
    "def extract_keyvals(batch):\n",
    "    return {item.split(':')[0]: item.split(':')[1] for item in batch}"
   ]
  },
  {
   "cell_type": "code",
   "execution_count": 83,
   "metadata": {},
   "outputs": [],
   "source": [
    "def key_presence_checker(key_vals):\n",
    "    batch_keys = list(key_vals.keys())\n",
    "    return all (k in batch_keys for k in reqd_fields)"
   ]
  },
  {
   "cell_type": "code",
   "execution_count": 85,
   "metadata": {},
   "outputs": [],
   "source": [
    "def valid_password_count(input='./2020_input_files/day4_input.txt'):\n",
    "    valid_count = 0\n",
    "    with open(input) as f:\n",
    "        batch = []\n",
    "        for line in f:\n",
    "            if line == \"\\n\":\n",
    "                if key_presence_checker(extract_keyvals(batch)):\n",
    "                    valid_count += 1\n",
    "                batch = []\n",
    "            else:\n",
    "                batch.extend(line.rstrip().split(\" \"))\n",
    "        if batch:\n",
    "            if key_presence_checker(extract_keyvals(batch)):\n",
    "                    valid_count += 1\n",
    "        return valid_count"
   ]
  },
  {
   "cell_type": "code",
   "execution_count": 86,
   "metadata": {},
   "outputs": [
    {
     "data": {
      "text/plain": [
       "226"
      ]
     },
     "execution_count": 86,
     "metadata": {},
     "output_type": "execute_result"
    }
   ],
   "source": [
    "valid_password_count()"
   ]
  },
  {
   "cell_type": "markdown",
   "metadata": {},
   "source": [
    "## Part 2"
   ]
  },
  {
   "cell_type": "markdown",
   "metadata": {},
   "source": [
    "--- Part Two ---\n",
    "The line is moving more quickly now, but you overhear airport security talking about how passports with invalid data are getting through. Better add some data validation, quick!\n",
    "\n",
    "You can continue to ignore the cid field, but each other field has strict rules about what values are valid for automatic validation:\n",
    "\n",
    "```\n",
    "byr (Birth Year) - four digits; at least 1920 and at most 2002.\n",
    "iyr (Issue Year) - four digits; at least 2010 and at most 2020.\n",
    "eyr (Expiration Year) - four digits; at least 2020 and at most 2030.\n",
    "hgt (Height) - a number followed by either cm or in:\n",
    "If cm, the number must be at least 150 and at most 193.\n",
    "If in, the number must be at least 59 and at most 76.\n",
    "hcl (Hair Color) - a # followed by exactly six characters 0-9 or a-f.\n",
    "ecl (Eye Color) - exactly one of: amb blu brn gry grn hzl oth.\n",
    "pid (Passport ID) - a nine-digit number, including leading zeroes.\n",
    "cid (Country ID) - ignored, missing or not.\n",
    "```\n",
    "\n",
    "Your job is to count the passports where all required fields are both present and valid according to the above rules. \n",
    "\n",
    "Here are some invalid passports:\n",
    "\n",
    "```\n",
    "eyr:1972 cid:100\n",
    "hcl:#18171d ecl:amb hgt:170 pid:186cm iyr:2018 byr:1926\n",
    "\n",
    "iyr:2019\n",
    "hcl:#602927 eyr:1967 hgt:170cm\n",
    "ecl:grn pid:012533040 byr:1946\n",
    "\n",
    "hcl:dab227 iyr:2012\n",
    "ecl:brn hgt:182cm pid:021572410 eyr:2020 byr:1992 cid:277\n",
    "\n",
    "hgt:59cm ecl:zzz\n",
    "eyr:2038 hcl:74454a iyr:2023\n",
    "pid:3556412378 byr:2007\n",
    "```\n",
    "\n",
    "Here are some valid passports:\n",
    "\n",
    "```\n",
    "pid:087499704 hgt:74in ecl:grn iyr:2012 eyr:2030 byr:1980\n",
    "hcl:#623a2f\n",
    "\n",
    "eyr:2029 ecl:blu cid:129 byr:1989\n",
    "iyr:2014 pid:896056539 hcl:#a97842 hgt:165cm\n",
    "\n",
    "hcl:#888785\n",
    "hgt:164cm byr:2001 iyr:2015 cid:88\n",
    "pid:545766238 ecl:hzl\n",
    "eyr:2022\n",
    "\n",
    "\n",
    "iyr:2010 hgt:158cm hcl:#b6652a ecl:blu byr:1944 eyr:2021 pid:093154719\n",
    "```\n",
    "\n",
    "Count the number of valid passports - those that have all required fields and valid values. Continue to treat cid as optional. In your batch file, how many passports are valid?"
   ]
  },
  {
   "cell_type": "code",
   "execution_count": 90,
   "metadata": {},
   "outputs": [],
   "source": [
    "import re"
   ]
  },
  {
   "cell_type": "code",
   "execution_count": 97,
   "metadata": {},
   "outputs": [],
   "source": [
    "def validate_number_range(value: str, max: int, min: int,) -> bool:\n",
    "    if value.isdigit():\n",
    "        num = int(value)\n",
    "        return max >= num >= min\n",
    "    else:\n",
    "        return False"
   ]
  },
  {
   "cell_type": "code",
   "execution_count": 216,
   "metadata": {},
   "outputs": [],
   "source": [
    "def validate_hgt(x: str) -> bool:\n",
    "    match = re.match(r'^([0-9]+)(cm|in)$',x)\n",
    "    if match:\n",
    "        match_groups = match.groups()\n",
    "        if match_groups[1] == \"cm\":\n",
    "            return 150 <= int(match_groups[0]) <= 193\n",
    "        elif match_groups[1] == \"in\":\n",
    "            return 59 <= int(match_groups[0]) <= 76\n",
    "    else:\n",
    "        return False\n",
    "        "
   ]
  },
  {
   "cell_type": "code",
   "execution_count": 217,
   "metadata": {},
   "outputs": [],
   "source": [
    "def validate_pid(value: str) -> bool:\n",
    "    match = re.match(r'^([0-9]{9})$',value)\n",
    "    if match:\n",
    "        return True\n",
    "    else:\n",
    "        return False"
   ]
  },
  {
   "cell_type": "code",
   "execution_count": 218,
   "metadata": {},
   "outputs": [],
   "source": [
    "passport_rules = {\n",
    "    'byr': lambda x: validate_number_range(x, max=2002, min=1920),\n",
    "    'iyr': lambda x: validate_number_range(x, max=2020, min=2010),\n",
    "    'eyr': lambda x: validate_number_range(x, max=2030, min=2020),\n",
    "    'hgt': lambda x: validate_hgt(x),\n",
    "    \"hcl\": lambda x: x[0] == \"#\" and all(y in \"1234567890abcdef\" for y in x[1:]),\n",
    "    \"ecl\": lambda x: x in [\"amb\", \"blu\", \"brn\", \"gry\", \"grn\", \"hzl\", \"oth\"],\n",
    "    \"pid\": lambda x: validate_pid(x)\n",
    "}"
   ]
  },
  {
   "cell_type": "markdown",
   "metadata": {},
   "source": [
    "### Test passport rules"
   ]
  },
  {
   "cell_type": "code",
   "execution_count": 219,
   "metadata": {},
   "outputs": [],
   "source": [
    "assert passport_rules['byr']('2002') == True\n",
    "assert passport_rules['byr']('2003') == False\n",
    "assert passport_rules['hgt']('60in') == True\n",
    "assert passport_rules['hgt']('190cm') == True\n",
    "assert passport_rules['hgt']('190in') == False\n",
    "assert passport_rules['hgt']('190') == False\n",
    "assert passport_rules['hcl']('#123abc') == True\n",
    "assert passport_rules['hcl']('#123abz') == False\n",
    "assert passport_rules['hcl']('123abc') == False\n",
    "assert passport_rules['ecl']('brn') == True\n",
    "assert passport_rules['ecl']('wat') == False\n",
    "assert passport_rules['pid']('000000001') == True\n",
    "assert passport_rules['pid']('x0123456789') == False\n",
    "assert passport_rules['pid']('0000000011') == False"
   ]
  },
  {
   "cell_type": "code",
   "execution_count": 220,
   "metadata": {},
   "outputs": [],
   "source": [
    "def new_passport_checker(x: dict) -> bool:\n",
    "    if key_presence_checker(x):\n",
    "        for key in x.keys():\n",
    "            if key in reqd_fields:\n",
    "                if passport_rules[key](x[key]) == False:\n",
    "                    return False\n",
    "        return True\n",
    "    else:\n",
    "        return False"
   ]
  },
  {
   "cell_type": "code",
   "execution_count": 221,
   "metadata": {},
   "outputs": [],
   "source": [
    "def strict_valid_password_count(input='./2020_input_files/day4_input.txt'):\n",
    "    valid_count = 0\n",
    "    with open(input) as f:\n",
    "        batch = []\n",
    "        for line in f:\n",
    "            if line == \"\\n\":\n",
    "                if new_passport_checker(extract_keyvals(batch)):\n",
    "                    valid_count += 1\n",
    "                batch = []\n",
    "            else:\n",
    "                batch.extend(line.rstrip().split(\" \"))\n",
    "        if batch:\n",
    "            if new_passport_checker(extract_keyvals(batch)):\n",
    "                    valid_count += 1\n",
    "        return valid_count"
   ]
  },
  {
   "cell_type": "markdown",
   "metadata": {},
   "source": [
    "### Test passport checker"
   ]
  },
  {
   "cell_type": "code",
   "execution_count": 222,
   "metadata": {},
   "outputs": [],
   "source": [
    "assert strict_valid_password_count(input='./2020_test_files/day4_valid.txt') == 4\n",
    "assert strict_valid_password_count(input='./2020_test_files/day4_invalid.txt') == 0"
   ]
  },
  {
   "cell_type": "code",
   "execution_count": 223,
   "metadata": {},
   "outputs": [
    {
     "data": {
      "text/plain": [
       "160"
      ]
     },
     "execution_count": 223,
     "metadata": {},
     "output_type": "execute_result"
    }
   ],
   "source": [
    "strict_valid_password_count()"
   ]
  }
 ],
 "metadata": {
  "kernelspec": {
   "display_name": "Python 3",
   "language": "python",
   "name": "python3"
  },
  "language_info": {
   "codemirror_mode": {
    "name": "ipython",
    "version": 3
   },
   "file_extension": ".py",
   "mimetype": "text/x-python",
   "name": "python",
   "nbconvert_exporter": "python",
   "pygments_lexer": "ipython3",
   "version": "3.7.3"
  }
 },
 "nbformat": 4,
 "nbformat_minor": 4
}
